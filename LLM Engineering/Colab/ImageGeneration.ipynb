
from huggingface_hub import login
from google.colab import userdata


hf_token = userdata.get('VANI_HF_TOKEN')
login(hf_token, add_to_git_credential=True)


import torch
from diffusers import StableDiffusionPipeline


model_id = "OFA-Sys/small-stable-diffusion-v0"
pipe = StableDiffusionPipeline.from_pretrained(model_id, torch_dtype=torch.float16)
pipe = pipe.to("cuda")
pipe.enable_model_cpu_offload()


prompt = "A cute puppies"
image = pipe(prompt).images[0]

from IPython.display import display
from PIL import Image

# Display the image inline
display(image)
