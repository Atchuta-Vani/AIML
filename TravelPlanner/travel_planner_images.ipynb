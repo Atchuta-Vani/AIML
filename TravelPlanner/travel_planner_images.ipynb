{
 "cells": [
  {
   "cell_type": "code",
   "execution_count": 5,
   "id": "8ee06104-ccb6-4499-a305-ea290ee0322d",
   "metadata": {},
   "outputs": [],
   "source": [
    "# Imports\n",
    "from IPython.display import Markdown,display, HTML\n",
    "from helper_functions import display_table\n",
    "import gradio as gr \n",
    "\n",
    "from datetime import date"
   ]
  },
  {
   "cell_type": "code",
   "execution_count": 6,
   "id": "ba88a8f4-014d-4a0d-a369-049d713f1079",
   "metadata": {},
   "outputs": [],
   "source": [
    "from lama_utils_images import llm_response_for_UI,fetch_image_from_unsplash"
   ]
  },
  {
   "cell_type": "code",
   "execution_count": 7,
   "id": "32440eb6-c87e-40fc-8b95-a9a912d25643",
   "metadata": {},
   "outputs": [],
   "source": [
    "#place_query = \"Delhi, India\"\n",
    "#print(fetch_image_from_unsplash(place_query))\n"
   ]
  },
  {
   "cell_type": "code",
   "execution_count": 8,
   "id": "ce67ae8b-fd78-422d-a2e2-097fd047bf3a",
   "metadata": {},
   "outputs": [
    {
     "name": "stdout",
     "output_type": "stream",
     "text": [
      "* Running on local URL:  http://127.0.0.1:7862\n",
      "* To create a public link, set `share=True` in `launch()`.\n"
     ]
    },
    {
     "data": {
      "text/html": [
       "<div><iframe src=\"http://127.0.0.1:7862/\" width=\"100%\" height=\"500\" allow=\"autoplay; camera; microphone; clipboard-read; clipboard-write;\" frameborder=\"0\" allowfullscreen></iframe></div>"
      ],
      "text/plain": [
       "<IPython.core.display.HTML object>"
      ]
     },
     "metadata": {},
     "output_type": "display_data"
    },
    {
     "data": {
      "text/plain": []
     },
     "execution_count": 8,
     "metadata": {},
     "output_type": "execute_result"
    },
    {
     "name": "stdout",
     "output_type": "stream",
     "text": [
      "🔍 Type of url: <class 'str'>\n",
      "🔍 URL: https://api.unsplash.com/search/photos\n",
      "Image URL is *************\n",
      "https://images.unsplash.com/photo-1687440755734-0bf255d25e2d?crop=entropy&cs=tinysrgb&fit=max&fm=jpg&ixid=M3w3NTA4OTB8MHwxfHNlYXJjaHwxfHxOaWFnYXJhJTIwRmFsbHMlMkMlMjBBbWVyaWNhfGVufDB8fHx8MTc0NzE3NTQzOHww&ixlib=rb-4.1.0&q=80&w=1080\n",
      "🔍 Type of url: <class 'str'>\n",
      "🔍 URL: https://api.unsplash.com/search/photos\n",
      "Image URL is *************\n",
      "https://images.unsplash.com/photo-1587474260584-136574528ed5?crop=entropy&cs=tinysrgb&fit=max&fm=jpg&ixid=M3w3NTA4OTB8MHwxfHNlYXJjaHwxfHxOZXclMjBEZWxoaSUyQyUyMEluZGlhfGVufDB8fHx8MTc0NzE3NTYzMXww&ixlib=rb-4.1.0&q=80&w=1080\n"
     ]
    }
   ],
   "source": [
    "\n",
    "# Wrap output formatting for Gradio\n",
    "def generate_travel_output(city, country, arrival, departure):\n",
    "    result = llm_response_for_UI(city, country, arrival, departure)\n",
    "    itinerary = result[\"itinerary\"]\n",
    "    image_url = result[\"image_url\"]\n",
    "    print(\"Image URL is *************\")\n",
    "    print(image_url)\n",
    "    return itinerary, image_url\n",
    "\n",
    "# Create the Gradio UI\n",
    "with gr.Blocks() as demo:\n",
    "    gr.Markdown(\"## 🌍 Travel Planner with Images\")\n",
    "\n",
    "    with gr.Row():\n",
    "        city = gr.Textbox(label=\"City\")\n",
    "        country = gr.Textbox(label=\"Country\")\n",
    "    \n",
    "    with gr.Row():\n",
    "        arrival = gr.Textbox(label=\"Pick Arrival Date (YYYY-MM-DD)\", value=str(date.today()))\n",
    "        departure = gr.Textbox(label=\"Pick Departure Date (YYYY-MM-DD)\", value=str(date.today()))\n",
    "\n",
    "    generate_btn = gr.Button(\"Generate Itinerary\")\n",
    "\n",
    "    with gr.Row():\n",
    "        itinerary_output = gr.Textbox(label=\"Itinerary\", lines=10)\n",
    "        image_output = gr.Image(label=\"Suggested Destination Image\", type=\"filepath\")\n",
    "\n",
    "    def wrapper(city, country, arrival, departure):\n",
    "        itinerary, image_url = generate_travel_output(city, country, arrival, departure)\n",
    "\n",
    "        # Download the image temporarily to pass to Gradio's image component\n",
    "        import requests\n",
    "        from PIL import Image\n",
    "        from io import BytesIO\n",
    "        import tempfile\n",
    "\n",
    "        if image_url:\n",
    "            img_response = requests.get(image_url)\n",
    "            img = Image.open(BytesIO(img_response.content))\n",
    "            temp_file = tempfile.NamedTemporaryFile(suffix=\".jpg\", delete=False)\n",
    "            img.save(temp_file.name)\n",
    "            return itinerary, temp_file.name\n",
    "        else:\n",
    "            return itinerary, None\n",
    "\n",
    "    generate_btn.click(\n",
    "        fn=wrapper,\n",
    "        inputs=[city, country, arrival, departure],\n",
    "        outputs=[itinerary_output, image_output]\n",
    "    )\n",
    "\n",
    "demo.launch()\n"
   ]
  },
  {
   "cell_type": "code",
   "execution_count": null,
   "id": "9e43cb3f-13fd-4cb0-ab4a-40048b1fa99a",
   "metadata": {},
   "outputs": [],
   "source": []
  }
 ],
 "metadata": {
  "kernelspec": {
   "display_name": "Python 3 (ipykernel)",
   "language": "python",
   "name": "python3"
  },
  "language_info": {
   "codemirror_mode": {
    "name": "ipython",
    "version": 3
   },
   "file_extension": ".py",
   "mimetype": "text/x-python",
   "name": "python",
   "nbconvert_exporter": "python",
   "pygments_lexer": "ipython3",
   "version": "3.11.11"
  }
 },
 "nbformat": 4,
 "nbformat_minor": 5
}
