{
 "cells": [
  {
   "cell_type": "code",
   "execution_count": 52,
   "id": "8ee06104-ccb6-4499-a305-ea290ee0322d",
   "metadata": {},
   "outputs": [],
   "source": [
    "# Imports\n",
    "from IPython.display import Markdown,display, HTML\n",
    "import csv\n",
    "from helper_functions import display_table\n",
    "from file_util import read_file\n",
    "from read_csv import read_csv_file"
   ]
  },
  {
   "cell_type": "code",
   "execution_count": null,
   "id": "2432c7a8-fdb5-423a-ab7c-3ccca2b2f2b4",
   "metadata": {},
   "outputs": [],
   "source": []
  },
  {
   "cell_type": "code",
   "execution_count": 53,
   "id": "62916c38-1ed4-4f30-b61d-8bab3fa029ea",
   "metadata": {},
   "outputs": [],
   "source": [
    "ITINERARY = \"itinerary.csv\"\n",
    "itinerary = read_csv_file(ITINERARY)"
   ]
  },
  {
   "cell_type": "code",
   "execution_count": 60,
   "id": "5d83dbdd-0606-4991-8a73-c844bca5c57e",
   "metadata": {},
   "outputs": [
    {
     "data": {
      "text/html": [
       "<table border=\"1\" class=\"dataframe\">\n",
       "  <thead>\n",
       "    <tr style=\"text-align: right;\">\n",
       "      <th>Arrival</th>\n",
       "      <th>Departure</th>\n",
       "      <th>City</th>\n",
       "      <th>Country</th>\n",
       "    </tr>\n",
       "  </thead>\n",
       "  <tbody>\n",
       "    <tr>\n",
       "      <td>July-01</td>\n",
       "      <td>July-08</td>\n",
       "      <td>New York</td>\n",
       "      <td>USA</td>\n",
       "    </tr>\n",
       "    <tr>\n",
       "      <td>July-09</td>\n",
       "      <td>July-16</td>\n",
       "      <td>Rio de Janeiro</td>\n",
       "      <td>Brazil</td>\n",
       "    </tr>\n",
       "    <tr>\n",
       "      <td>July-17</td>\n",
       "      <td>July-24</td>\n",
       "      <td>Cape Town</td>\n",
       "      <td>South Africa</td>\n",
       "    </tr>\n",
       "    <tr>\n",
       "      <td>July-25</td>\n",
       "      <td>August-01</td>\n",
       "      <td>Istanbul</td>\n",
       "      <td>Turkey</td>\n",
       "    </tr>\n",
       "    <tr>\n",
       "      <td>August-02</td>\n",
       "      <td>August-09</td>\n",
       "      <td>Paris</td>\n",
       "      <td>France</td>\n",
       "    </tr>\n",
       "    <tr>\n",
       "      <td>August-10</td>\n",
       "      <td>August-17</td>\n",
       "      <td>Tokyo</td>\n",
       "      <td>Japan</td>\n",
       "    </tr>\n",
       "    <tr>\n",
       "      <td>August-18</td>\n",
       "      <td>August-25</td>\n",
       "      <td>Sydney</td>\n",
       "      <td>Australia</td>\n",
       "    </tr>\n",
       "    <tr>\n",
       "      <td>September-1</td>\n",
       "      <td>September-21</td>\n",
       "      <td>BITS Pilani</td>\n",
       "      <td>India</td>\n",
       "    </tr>\n",
       "    <tr>\n",
       "      <td>June-5</td>\n",
       "      <td>June-10</td>\n",
       "      <td>Iceland</td>\n",
       "      <td>Europe</td>\n",
       "    </tr>\n",
       "  </tbody>\n",
       "</table>"
      ],
      "text/plain": [
       "<IPython.core.display.HTML object>"
      ]
     },
     "metadata": {},
     "output_type": "display_data"
    }
   ],
   "source": [
    "display_table(itinerary)"
   ]
  },
  {
   "cell_type": "code",
   "execution_count": 45,
   "id": "9a15732b-e148-4cad-b8d6-184619b6b5b2",
   "metadata": {},
   "outputs": [],
   "source": [
    "#print(itinerary[0][\"Country\"])"
   ]
  },
  {
   "cell_type": "code",
   "execution_count": 61,
   "id": "0b111ff3-cbda-4393-9693-302a9f264d04",
   "metadata": {},
   "outputs": [],
   "source": [
    "# Create an empty list to store the filtered data\n",
    "filtered_data = []\n",
    "\n",
    "# Filter by country\n",
    "for trip_stop in itinerary:\n",
    "    # For example: get the destinations located in \"Japan\"\n",
    "    if trip_stop[\"Country\"] == \"India\":\n",
    "        filtered_data.append(trip_stop)"
   ]
  },
  {
   "cell_type": "code",
   "execution_count": 62,
   "id": "47790686-1726-449a-804f-bb8d382f8f58",
   "metadata": {},
   "outputs": [
    {
     "data": {
      "text/html": [
       "<table border=\"1\" class=\"dataframe\">\n",
       "  <thead>\n",
       "    <tr style=\"text-align: right;\">\n",
       "      <th>Arrival</th>\n",
       "      <th>Departure</th>\n",
       "      <th>City</th>\n",
       "      <th>Country</th>\n",
       "    </tr>\n",
       "  </thead>\n",
       "  <tbody>\n",
       "    <tr>\n",
       "      <td>September-1</td>\n",
       "      <td>September-21</td>\n",
       "      <td>BITS Pilani</td>\n",
       "      <td>India</td>\n",
       "    </tr>\n",
       "  </tbody>\n",
       "</table>"
      ],
      "text/plain": [
       "<IPython.core.display.HTML object>"
      ]
     },
     "metadata": {},
     "output_type": "display_data"
    }
   ],
   "source": [
    "display_table(filtered_data)"
   ]
  },
  {
   "cell_type": "code",
   "execution_count": 67,
   "id": "e6b53490-6b47-4e38-9bd8-839061eef1a4",
   "metadata": {},
   "outputs": [],
   "source": [
    "# Select the first destination from the itinerary list (Hint: index=0)\n",
    "trip_stop = filtered_data[0]"
   ]
  },
  {
   "cell_type": "code",
   "execution_count": 68,
   "id": "e6b42ec5-78db-41a1-8736-b12e02c8da86",
   "metadata": {},
   "outputs": [],
   "source": [
    "city = trip_stop[\"City\"]\n",
    "country = trip_stop[\"Country\"]\n",
    "arrival = trip_stop[\"Arrival\"]\n",
    "departure = trip_stop[\"Departure\"]"
   ]
  },
  {
   "cell_type": "code",
   "execution_count": 69,
   "id": "b441b9d6-6d25-45a7-9977-f8d67b784f11",
   "metadata": {},
   "outputs": [
    {
     "name": "stdout",
     "output_type": "stream",
     "text": [
      "I will visit BITS Pilani, India, from September-1 to September-21. \n",
      "Please create a detailed daily itinerary.\n"
     ]
    }
   ],
   "source": [
    "prompt = f\"\"\"I will visit {city}, {country}, from {arrival} to {departure}. \n",
    "Please create a detailed daily itinerary.\"\"\"\n",
    "\n",
    "print(prompt)"
   ]
  },
  {
   "cell_type": "code",
   "execution_count": 70,
   "id": "eb318f7c-cc4e-4ad0-94f0-7d295a5ed44a",
   "metadata": {},
   "outputs": [
    {
     "data": {
      "text/markdown": [
       "BITS Pilani is a prestigious university in Pilani, Rajasthan, India. Here's a suggested daily itinerary for your visit from September 1st to September 21st:\n",
       "\n",
       "**September 1st: Arrival and Check-In**\n",
       "\n",
       "* Arrive at Jaipur International Airport (JAI) or Srinagar Airport (IXN), depending on your preference\n",
       "* Take an educational bus or taxi to BITS Pilani campus\n",
       "* Check-in to the hostels (Residential Hall or Guest House)\n",
       "* Spend the day exploring the campus, getting familiar with the surroundings, and meeting with fellow students\n",
       "\n",
       "**September 2nd: Campus Tour**\n",
       "\n",
       "* Start the day with a guided tour of the BITS Pilani campus\n",
       "* Visit various facilities such as the library, classrooms, laboratories, and recreational areas\n",
       "* Meet with Professors and faculty members to discuss your course options and career prospects\n",
       "* Enjoy cultural events or activities at the college\n",
       "\n",
       "**September 3rd-4th: Relaxation Day**\n",
       "\n",
       "* Spend two days relaxing on campus, catching up on sleep, and exploring nearby Pilani town\n",
       "* Visit the famous Nagda Fort and enjoy the scenic views of the surrounding hills\n",
       "* Take a day trip to Ajmer Dargah Sharif or Pushkar Lake for some spiritual exploration\n",
       "\n",
       "**September 5th: Sports Day**\n",
       "\n",
       "* Participate in various sports and games organized by the college (e.g., cricket, basketball, football)\n",
       "* Meet new friends, build relationships, and participate in bonding activities\n",
       "* Host a fun event like Karaoke, movie night, or pool party to break the ice\n",
       "\n",
       "**September 6th-7th: Cultural Events**\n",
       "\n",
       "* Attend cultural events and festivals organized by the college (e.g., Dance Competition, Music Concert, or Cultural Program)\n",
       "* Meet Professors and industry experts for career guidance and advice\n",
       "* Join a group activity like team-building exercises or scavenger hunt to build teamwork\n",
       "\n",
       "**September 8th-14th: Academic Orientation**\n",
       "\n",
       "* Attend lectures and seminars on various subjects (core courses, elective courses, specializations)\n",
       "* Explore the curriculum and course structures offered by the college\n",
       "* Meet with Professors and classmates to discuss projects, assignments, and future plans\n",
       "* Participate in group discussions, debates, or project presentations\n",
       "\n",
       "**September 15th-16th: Outdoor Activities**\n",
       "\n",
       "* Organize a day trip to nearby hills (e.g., Neem Karoli Baba Ashram) for meditation and nature walks\n",
       "* Visit a hill station like Alwar or Sariska National Park for an immersive outdoor experience\n",
       "* Enjoy camping, trekking, or group sports activities on campus\n",
       "\n",
       "**September 17th-18th: Industry Interaction**\n",
       "\n",
       "* Attend seminars and workshops organized by the college's alumni network (Alum Connect) or industry partners\n",
       "* Meet with entrepreneurs, company representatives, and start-up founders\n",
       "* Participate in mock interviews or career assessments to prepare for job hunts\n",
       "\n",
       "**September 19th-20th: Faculty Insights**\n",
       "\n",
       "* Meet with Professors from various departments to discuss course options and research interests\n",
       "* Attend seminars, research talks, and workshops led by faculty members\n",
       "* Join peer group sessions, group tutorials, or lab classes\n",
       "\n",
       "**September 21st: Campus Farewell**\n",
       "\n",
       "* Enjoy a farewell dinner with friends, classmates, or family\n",
       "* Take a final walk through campus to capture memories with photos and well-wishes from the BITS Pilani community\n",
       "* Depart from Jaipur International Airport (JAI) or Srinagar Airport (IXN)\n",
       "\n",
       "Please note that this is just a suggested itinerary, and you may adjust it according to your preferences and needs."
      ],
      "text/plain": [
       "<IPython.core.display.Markdown object>"
      ]
     },
     "metadata": {},
     "output_type": "display_data"
    }
   ],
   "source": [
    "#make a request to LLAMA and get suggessions for travel\n",
    "from lama_utils import print_llm_response\n",
    "llm_response = print_llm_response(prompt)\n",
    "\n",
    "# Print in Markdown format\n",
    "display(Markdown(llm_response))"
   ]
  },
  {
   "cell_type": "code",
   "execution_count": null,
   "id": "9ba829f1-5328-4383-9ad2-406fc1a7bb47",
   "metadata": {},
   "outputs": [],
   "source": []
  }
 ],
 "metadata": {
  "kernelspec": {
   "display_name": "Python 3 (ipykernel)",
   "language": "python",
   "name": "python3"
  },
  "language_info": {
   "codemirror_mode": {
    "name": "ipython",
    "version": 3
   },
   "file_extension": ".py",
   "mimetype": "text/x-python",
   "name": "python",
   "nbconvert_exporter": "python",
   "pygments_lexer": "ipython3",
   "version": "3.11.11"
  }
 },
 "nbformat": 4,
 "nbformat_minor": 5
}
