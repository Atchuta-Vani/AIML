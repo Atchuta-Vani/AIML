{
 "cells": [
  {
   "cell_type": "code",
   "execution_count": 19,
   "id": "8ee06104-ccb6-4499-a305-ea290ee0322d",
   "metadata": {},
   "outputs": [],
   "source": [
    "# Imports\n",
    "from IPython.display import Markdown,display, HTML\n",
    "from helper_functions import display_table"
   ]
  },
  {
   "cell_type": "code",
   "execution_count": 20,
   "id": "ba88a8f4-014d-4a0d-a369-049d713f1079",
   "metadata": {},
   "outputs": [],
   "source": [
    "from lama_utils import llm_response_for_UI"
   ]
  },
  {
   "cell_type": "code",
   "execution_count": 21,
   "id": "9ba829f1-5328-4383-9ad2-406fc1a7bb47",
   "metadata": {},
   "outputs": [
    {
     "name": "stdout",
     "output_type": "stream",
     "text": [
      "* Running on local URL:  http://127.0.0.1:7862\n",
      "\n",
      "To create a public link, set `share=True` in `launch()`.\n"
     ]
    },
    {
     "data": {
      "text/html": [
       "<div><iframe src=\"http://127.0.0.1:7862/\" width=\"100%\" height=\"500\" allow=\"autoplay; camera; microphone; clipboard-read; clipboard-write;\" frameborder=\"0\" allowfullscreen></iframe></div>"
      ],
      "text/plain": [
       "<IPython.core.display.HTML object>"
      ]
     },
     "metadata": {},
     "output_type": "display_data"
    },
    {
     "data": {
      "text/plain": []
     },
     "execution_count": 21,
     "metadata": {},
     "output_type": "execute_result"
    }
   ],
   "source": [
    "import gradio as gr # oh yeah!\n",
    "view = gr.Interface(\n",
    "    fn=llm_response_for_UI,\n",
    "    inputs=[gr.Textbox(label=\"Destination City\"),gr.Textbox(label=\"Destination Country\"),gr.Textbox(label=\"Duration\")],\n",
    "    outputs=[gr.Markdown(label=\"Response:\")],\n",
    "    flagging_mode=\"never\"\n",
    ")\n",
    "view.launch()"
   ]
  },
  {
   "cell_type": "code",
   "execution_count": null,
   "id": "ce67ae8b-fd78-422d-a2e2-097fd047bf3a",
   "metadata": {},
   "outputs": [],
   "source": []
  }
 ],
 "metadata": {
  "kernelspec": {
   "display_name": "Python 3 (ipykernel)",
   "language": "python",
   "name": "python3"
  },
  "language_info": {
   "codemirror_mode": {
    "name": "ipython",
    "version": 3
   },
   "file_extension": ".py",
   "mimetype": "text/x-python",
   "name": "python",
   "nbconvert_exporter": "python",
   "pygments_lexer": "ipython3",
   "version": "3.11.11"
  }
 },
 "nbformat": 4,
 "nbformat_minor": 5
}
