{
 "cells": [
  {
   "cell_type": "code",
   "execution_count": 1,
   "id": "8ee06104-ccb6-4499-a305-ea290ee0322d",
   "metadata": {},
   "outputs": [],
   "source": [
    "# Imports\n",
    "from IPython.display import Markdown,display, HTML\n",
    "from helper_functions import display_table"
   ]
  },
  {
   "cell_type": "code",
   "execution_count": 2,
   "id": "ba88a8f4-014d-4a0d-a369-049d713f1079",
   "metadata": {},
   "outputs": [],
   "source": [
    "from lama_utils import llm_response_for_UI"
   ]
  },
  {
   "cell_type": "code",
   "execution_count": 3,
   "id": "9ba829f1-5328-4383-9ad2-406fc1a7bb47",
   "metadata": {},
   "outputs": [
    {
     "name": "stdout",
     "output_type": "stream",
     "text": [
      "* Running on local URL:  http://127.0.0.1:7860\n",
      "* To create a public link, set `share=True` in `launch()`.\n"
     ]
    },
    {
     "data": {
      "text/html": [
       "<div><iframe src=\"http://127.0.0.1:7860/\" width=\"100%\" height=\"500\" allow=\"autoplay; camera; microphone; clipboard-read; clipboard-write;\" frameborder=\"0\" allowfullscreen></iframe></div>"
      ],
      "text/plain": [
       "<IPython.core.display.HTML object>"
      ]
     },
     "metadata": {},
     "output_type": "display_data"
    },
    {
     "data": {
      "text/plain": []
     },
     "execution_count": 3,
     "metadata": {},
     "output_type": "execute_result"
    }
   ],
   "source": [
    "import gradio as gr \n",
    "\n",
    "from datetime import date\n",
    "with gr.Blocks() as view:\n",
    "    gr.Markdown(\"# ✈️ Travel Planner\")\n",
    "    gr.Interface(\n",
    "    fn=llm_response_for_UI,\n",
    "    inputs=[gr.Textbox(label=\"Destination City\"),\n",
    "            gr.Textbox(label=\"Destination Country\"),\n",
    "            gr.Textbox(label=\"Pick Arrival Date (YYYY-MM-DD)\", value=str(date.today())),\n",
    "            gr.Textbox(label=\"Pick Departure Date (YYYY-MM-DD)\", value=str(date.today()))],\n",
    "    outputs=[gr.Markdown(label=\"Response:\")],\n",
    "    flagging_mode=\"never\"\n",
    ")\n",
    "view.launch()"
   ]
  },
  {
   "cell_type": "code",
   "execution_count": null,
   "id": "ce67ae8b-fd78-422d-a2e2-097fd047bf3a",
   "metadata": {},
   "outputs": [],
   "source": []
  },
  {
   "cell_type": "code",
   "execution_count": null,
   "id": "9e43cb3f-13fd-4cb0-ab4a-40048b1fa99a",
   "metadata": {},
   "outputs": [],
   "source": []
  }
 ],
 "metadata": {
  "kernelspec": {
   "display_name": "Python 3 (ipykernel)",
   "language": "python",
   "name": "python3"
  },
  "language_info": {
   "codemirror_mode": {
    "name": "ipython",
    "version": 3
   },
   "file_extension": ".py",
   "mimetype": "text/x-python",
   "name": "python",
   "nbconvert_exporter": "python",
   "pygments_lexer": "ipython3",
   "version": "3.11.11"
  }
 },
 "nbformat": 4,
 "nbformat_minor": 5
}
