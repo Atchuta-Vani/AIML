{
 "cells": [
  {
   "cell_type": "code",
   "execution_count": 9,
   "id": "3aff3df7-6a0a-4770-a171-b48fba672fe8",
   "metadata": {},
   "outputs": [],
   "source": [
    "from file_util import read_file"
   ]
  },
  {
   "cell_type": "code",
   "execution_count": 11,
   "id": "d6129a59-8686-45f9-82d0-6106597e61d9",
   "metadata": {},
   "outputs": [
    {
     "name": "stdout",
     "output_type": "stream",
     "text": [
      "Arrival,Departure,City,Country\n",
      "July-01,July-08,New York,USA\n",
      "July-09,July-16,Rio de Janeiro,Brazil\n",
      "July-17,July-24,Cape Town,South Africa\n",
      "July-25,August-01,Istanbul,Turkey\n",
      "August-02,August-09,Paris,France\n",
      "August-10,August-17,Tokyo,Japan\n",
      "August-18,August-25,Sydney,Australia\n",
      "\n"
     ]
    },
    {
     "data": {
      "text/plain": [
       "'Arrival,Departure,City,Country\\nJuly-01,July-08,New York,USA\\nJuly-09,July-16,Rio de Janeiro,Brazil\\nJuly-17,July-24,Cape Town,South Africa\\nJuly-25,August-01,Istanbul,Turkey\\nAugust-02,August-09,Paris,France\\nAugust-10,August-17,Tokyo,Japan\\nAugust-18,August-25,Sydney,Australia\\n'"
      ]
     },
     "execution_count": 11,
     "metadata": {},
     "output_type": "execute_result"
    }
   ],
   "source": [
    "read_file(\"itinerary.csv\")"
   ]
  },
  {
   "cell_type": "code",
   "execution_count": 12,
   "id": "673184f0-2daa-44b2-80c3-712b017183f2",
   "metadata": {},
   "outputs": [
    {
     "name": "stdout",
     "output_type": "stream",
     "text": [
      "I'd be happy to help you with a travel plan, but I don't see a destination mentioned. Can you please tell me where you'd like to go? Are you looking for a specific type of trip (e.g. beach vacation, city break, outdoorsy adventure), or are you open to suggestions?\n",
      "\n",
      "Also, could you provide some more information about your preferences and requirements, such as:\n",
      "\n",
      "* Travel dates\n",
      "* Length of stay\n",
      "* Budget range\n",
      "* Interests and activities you'd like to do\n",
      "* Travel companions (number of people in the group)\n",
      "\n",
      "Once I have this information, I can start providing you with personalized travel recommendations!\n"
     ]
    }
   ],
   "source": [
    "from openai import OpenAI\n",
    "ollama_via_openai = OpenAI(base_url='http://localhost:11434/v1', api_key='ollama')\n",
    "MODEL = \"llama3.2\"\n",
    "messages = [\n",
    "    {\"role\": \"user\", \"content\": \"Provide a travel plan from \"}\n",
    "]\n",
    "response = ollama_via_openai.chat.completions.create(\n",
    "    model=MODEL,\n",
    "    messages=messages\n",
    ")\n",
    "\n",
    "print(response.choices[0].message.content)"
   ]
  },
  {
   "cell_type": "code",
   "execution_count": null,
   "id": "82df442f-a369-4c26-9f2d-13719476aac6",
   "metadata": {},
   "outputs": [],
   "source": [
    "# Store the LLM response\n",
    "from openai import OpenAI\n",
    "ollama_via_openai = OpenAI(base_url='http://localhost:11434/v1', api_key='ollama')\n",
    "MODEL = \"llama3.2\"\n",
    "messages = [\n",
    "    {\"role\": \"user\", \"content\": prompt}\n",
    "]\n",
    "response = ollama_via_openai.chat.completions.create(\n",
    "    model=MODEL,\n",
    "    messages=messages\n",
    ")\n",
    "\n",
    "#print(response.choices[0].message.content)\n",
    "\n",
    "# Print in Markdown format\n",
    "display(Markdown(response.choices[0].message.content))"
   ]
  }
 ],
 "metadata": {
  "kernelspec": {
   "display_name": "Python 3 (ipykernel)",
   "language": "python",
   "name": "python3"
  },
  "language_info": {
   "codemirror_mode": {
    "name": "ipython",
    "version": 3
   },
   "file_extension": ".py",
   "mimetype": "text/x-python",
   "name": "python",
   "nbconvert_exporter": "python",
   "pygments_lexer": "ipython3",
   "version": "3.11.11"
  }
 },
 "nbformat": 4,
 "nbformat_minor": 5
}
